{
    "cells": [
        {
            "cell_type": "markdown",
            "metadata": {
                "collapsed": true
            },
            "source": "# My jupyter notebook on IBM Watson studio"
        },
        {
            "cell_type": "markdown",
            "metadata": {},
            "source": "# Sunday\n   Data Scientist"
        },
        {
            "cell_type": "markdown",
            "metadata": {},
            "source": "I am interested in data science so i can use story to solve future problems"
        },
        {
            "cell_type": "markdown",
            "metadata": {},
            "source": "The code below is to run simple calculation"
        },
        {
            "cell_type": "code",
            "execution_count": 1,
            "metadata": {},
            "outputs": [
                {
                    "data": {
                        "text/plain": "6.0"
                    },
                    "execution_count": 1,
                    "metadata": {},
                    "output_type": "execute_result"
                }
            ],
            "source": "4+4/2"
        },
        {
            "cell_type": "code",
            "execution_count": null,
            "metadata": {},
            "outputs": [],
            "source": "I must follow regular syntax such as:\n    - arithmetic operations\n    - markdown sign\nAnd also ~~Numbered list~~\n\n    \n    \n    "
        }
    ],
    "metadata": {
        "celltoolbar": "Raw Cell Format",
        "kernelspec": {
            "display_name": "Python 3.9",
            "language": "python",
            "name": "python3"
        },
        "language_info": {
            "codemirror_mode": {
                "name": "ipython",
                "version": 3
            },
            "file_extension": ".py",
            "mimetype": "text/x-python",
            "name": "python",
            "nbconvert_exporter": "python",
            "pygments_lexer": "ipython3",
            "version": "3.9.12"
        }
    },
    "nbformat": 4,
    "nbformat_minor": 1
}