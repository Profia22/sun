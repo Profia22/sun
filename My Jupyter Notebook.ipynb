{
    "cells": [
        {
            "cell_type": "markdown",
            "metadata": {},
            "source": "# My Jupyter Notebook on IBM Watson Studio"
        },
        {
            "cell_type": "markdown",
            "metadata": {},
            "source": "# Sunday\n  Data Scientist role"
        },
        {
            "cell_type": "markdown",
            "metadata": {},
            "source": "I am interested in data science so i can use story to solve future problems"
        },
        {
            "cell_type": "markdown",
            "metadata": {},
            "source": "The code below is to run simple calculation"
        },
        {
            "cell_type": "code",
            "execution_count": 1,
            "metadata": {},
            "outputs": [
                {
                    "data": {
                        "text/plain": "6.0"
                    },
                    "execution_count": 1,
                    "metadata": {},
                    "output_type": "execute_result"
                }
            ],
            "source": "4+4/2"
        },
        {
            "cell_type": "markdown",
            "metadata": {},
            "source": "# Programming skillis to gain:\n* R\n* Python\n* SQL\n\nProcedures:\n    1. Certification\n    2. Bootcam\n    3. Projects sampling and ~~interviews~~"
        }
    ],
    "metadata": {
        "celltoolbar": "Raw Cell Format",
        "kernelspec": {
            "display_name": "Python 3.9",
            "language": "python",
            "name": "python3"
        },
        "language_info": {
            "codemirror_mode": {
                "name": "ipython",
                "version": 3
            },
            "file_extension": ".py",
            "mimetype": "text/x-python",
            "name": "python",
            "nbconvert_exporter": "python",
            "pygments_lexer": "ipython3",
            "version": "3.9.12"
        }
    },
    "nbformat": 4,
    "nbformat_minor": 1
}